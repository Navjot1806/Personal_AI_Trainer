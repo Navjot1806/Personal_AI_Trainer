{
 "cells": [
  {
   "cell_type": "code",
   "execution_count": 35,
   "metadata": {},
   "outputs": [],
   "source": [
    "import numpy as np"
   ]
  },
  {
   "cell_type": "code",
   "execution_count": 36,
   "metadata": {},
   "outputs": [],
   "source": [
    "data=np.load(\"data/mm-fit/w00/w00_pose_2d.npy\")"
   ]
  },
  {
   "cell_type": "code",
   "execution_count": 41,
   "metadata": {},
   "outputs": [
    {
     "name": "stdout",
     "output_type": "stream",
     "text": [
      "[[[ 4050.      817.413   795.951 ...   825.284   776.276   837.118]\n",
      "  [ 4051.      817.449   797.849 ...   825.316   776.287   838.924]\n",
      "  [ 4052.      817.449   797.897 ...   825.319   776.335   838.955]\n",
      "  ...\n",
      "  [67965.      615.658   635.335 ...   619.697   631.279   648.888]\n",
      "  [67966.      615.658   635.332 ...   619.698   631.279   648.888]\n",
      "  [67967.      615.663   635.332 ...   621.504   631.279   648.886]]\n",
      "\n",
      " [[ 4050.      343.362   394.275 ...   333.469   331.593   335.443]\n",
      "  [ 4051.      357.077   404.093 ...   345.294   343.328   347.286]\n",
      "  [ 4052.      368.895   415.926 ...   355.179   357.045   360.971]\n",
      "  ...\n",
      "  [67965.      210.128   251.235 ...   196.39    196.469   194.437]\n",
      "  [67966.      210.103   251.237 ...   196.367   196.469   194.437]\n",
      "  [67967.      210.103   251.237 ...   196.359   196.469   194.431]]]\n"
     ]
    }
   ],
   "source": [
    "print(data)"
   ]
  },
  {
   "cell_type": "code",
   "execution_count": 30,
   "metadata": {},
   "outputs": [
    {
     "name": "stdout",
     "output_type": "stream",
     "text": [
      "(2, 63918, 19)\n"
     ]
    }
   ],
   "source": [
    "print(data.shape)"
   ]
  },
  {
   "cell_type": "code",
   "execution_count": 31,
   "metadata": {},
   "outputs": [
    {
     "data": {
      "text/plain": [
       "(63918, 2, 19)"
      ]
     },
     "execution_count": 31,
     "metadata": {},
     "output_type": "execute_result"
    }
   ],
   "source": [
    "data = data.transpose(1,0,2)\n",
    "data.shape"
   ]
  },
  {
   "cell_type": "code",
   "execution_count": 32,
   "metadata": {},
   "outputs": [
    {
     "data": {
      "text/plain": [
       "(63918, 38)"
      ]
     },
     "execution_count": 32,
     "metadata": {},
     "output_type": "execute_result"
    }
   ],
   "source": [
    "data = data.reshape(-1,38)\n",
    "data.shape"
   ]
  },
  {
   "cell_type": "code",
   "execution_count": null,
   "metadata": {},
   "outputs": [],
   "source": []
  }
 ],
 "metadata": {
  "kernelspec": {
   "display_name": "Python 3.10.5 ('gymassistant')",
   "language": "python",
   "name": "python3"
  },
  "language_info": {
   "codemirror_mode": {
    "name": "ipython",
    "version": 3
   },
   "file_extension": ".py",
   "mimetype": "text/x-python",
   "name": "python",
   "nbconvert_exporter": "python",
   "pygments_lexer": "ipython3",
   "version": "3.10.5"
  },
  "orig_nbformat": 4,
  "vscode": {
   "interpreter": {
    "hash": "29d0b22553604b83f3f9116862155b8783631f0df5a25684df21252728718172"
   }
  }
 },
 "nbformat": 4,
 "nbformat_minor": 2
}
